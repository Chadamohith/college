{
 "cells": [
  {
   "cell_type": "code",
   "execution_count": 1,
   "id": "898ceab0",
   "metadata": {},
   "outputs": [
    {
     "name": "stdout",
     "output_type": "stream",
     "text": [
      "The sum of 34 and 34 is 68\n"
     ]
    }
   ],
   "source": [
    "# The sum of two numbers\n",
    "\n",
    "num1 = 34\n",
    "\n",
    "num2 = 34\n",
    "\n",
    "sum = num1 + num2\n",
    "\n",
    "print(\"The sum of {0} and {1} is {2}\".format(num1,num2,sum))"
   ]
  },
  {
   "cell_type": "code",
   "execution_count": 2,
   "id": "5b80d1c0",
   "metadata": {},
   "outputs": [
    {
     "name": "stdout",
     "output_type": "stream",
     "text": [
      "The sub of 50 and 25 is 25\n"
     ]
    }
   ],
   "source": [
    "# The substraction  of two numbers \n",
    "\n",
    "num1 = 50\n",
    "\n",
    "num2 = 25\n",
    "\n",
    "sub = num1 - num2\n",
    "\n",
    "print('The sub of {0} and {1} is {2}'. format(num1,num2,sub))"
   ]
  },
  {
   "cell_type": "code",
   "execution_count": 3,
   "id": "e5815305",
   "metadata": {},
   "outputs": [
    {
     "name": "stdout",
     "output_type": "stream",
     "text": [
      "The mul of 9 and 3 is 27\n"
     ]
    }
   ],
   "source": [
    "# The multiplication of twwo numbers\n",
    "\n",
    "num1 = 9\n",
    "\n",
    "num2 = 3\n",
    "\n",
    "mul = num1 * num2\n",
    "\n",
    "print('The mul of {0} and {1} is {2}'. format(num1,num2,mul))"
   ]
  },
  {
   "cell_type": "code",
   "execution_count": 9,
   "id": "bc43a0c2",
   "metadata": {},
   "outputs": [
    {
     "name": "stdout",
     "output_type": "stream",
     "text": [
      "The div of 25 and 5 is 5\n"
     ]
    }
   ],
   "source": [
    "# The division of two numbers \n",
    "\n",
    "num1 = 25\n",
    "\n",
    "num2 = 5\n",
    "\n",
    "div = num1 // num2 \n",
    "print('The div of {0} and {1} is {2}'. format(num1,num2,div))"
   ]
  },
  {
   "cell_type": "code",
   "execution_count": 10,
   "id": "42ef3642",
   "metadata": {},
   "outputs": [
    {
     "name": "stdout",
     "output_type": "stream",
     "text": [
      "1\n",
      "2\n",
      "3\n",
      "4\n",
      "5\n",
      "6\n"
     ]
    }
   ],
   "source": [
    "l1=[1,2,3,4,5,6]\n",
    "for X in l1:\n",
    "    print(X)"
   ]
  },
  {
   "cell_type": "code",
   "execution_count": 11,
   "id": "e6337a2f",
   "metadata": {},
   "outputs": [
    {
     "name": "stdout",
     "output_type": "stream",
     "text": [
      "The sub of 50 and 30 is 44\n"
     ]
    }
   ],
   "source": [
    "# The sub of two numbers\n",
    "\n",
    "\n",
    "num1 = 50\n",
    "\n",
    "num2 = 30\n",
    "\n",
    "sub = num1 ^ num2\n",
    "\n",
    "print('The sub of {0} and {1} is {2}'. format(num1,num2,sub))\n"
   ]
  },
  {
   "cell_type": "code",
   "execution_count": 12,
   "id": "1cd54bd7",
   "metadata": {},
   "outputs": [
    {
     "name": "stdout",
     "output_type": "stream",
     "text": [
      "enter length :7\n",
      "enter breadth8\n",
      "Area of the rectangle = 56.0\n"
     ]
    }
   ],
   "source": [
    "# Area of rectangle\n",
    "\n",
    "len=float(input('enter length :'))\n",
    "br=float(input('enter breadth'))\n",
    "\n",
    "A=len*br\n",
    "print('Area of the rectangle =',A)"
   ]
  },
  {
   "cell_type": "code",
   "execution_count": 1,
   "id": "f18649b8",
   "metadata": {},
   "outputs": [
    {
     "name": "stdout",
     "output_type": "stream",
     "text": [
      "Enter first number:7\n",
      "Enter second number:7\n",
      "Sum of two numbers = 14.0\n"
     ]
    }
   ],
   "source": [
    "# The sum of two numbers\n",
    "\n",
    "num1 = float(input('Enter first number:'))\n",
    "num2 = float(input('Enter second number:'))\n",
    "\n",
    "sum = num1 + num2\n",
    "print('Sum of two numbers =',sum)"
   ]
  },
  {
   "cell_type": "code",
   "execution_count": 2,
   "id": "3a5425f0",
   "metadata": {},
   "outputs": [
    {
     "name": "stdout",
     "output_type": "stream",
     "text": [
      "Enter first number:59\n",
      "Enter second number:45\n",
      "sub of two numbers = 14.0\n"
     ]
    }
   ],
   "source": [
    "# The sub of two numbers\n",
    "\n",
    "num1 = float(input('Enter first number:'))\n",
    "num2 = float(input('Enter second number:'))\n",
    "sub = num1 - num2\n",
    "print('sub of two numbers =',sub)"
   ]
  },
  {
   "cell_type": "code",
   "execution_count": 5,
   "id": "4c325fb7",
   "metadata": {},
   "outputs": [
    {
     "name": "stdout",
     "output_type": "stream",
     "text": [
      "Enter first number:36\n",
      "Enter second number:76\n",
      "mul of two numbers = 2736.0\n"
     ]
    }
   ],
   "source": [
    "# The mul of two numbers\n",
    "\n",
    "num1 = float(input('Enter first number:'))\n",
    "num2 = float(input('Enter second number:'))\n",
    "\n",
    "mul = num1*num2\n",
    "print('mul of two numbers =',mul)"
   ]
  },
  {
   "cell_type": "code",
   "execution_count": 7,
   "id": "19ccf15a",
   "metadata": {},
   "outputs": [
    {
     "name": "stdout",
     "output_type": "stream",
     "text": [
      "Enter first number:78\n",
      "Enter second number:5\n",
      "div of two numbers = 15.0\n"
     ]
    }
   ],
   "source": [
    "# The div of two numbers \n",
    "num1 = float(input('Enter first number:'))\n",
    "num2 = float(input('Enter second number:'))\n",
    "div = num1// num2\n",
    "print('div of two numbers =',div)"
   ]
  },
  {
   "cell_type": "code",
   "execution_count": 8,
   "id": "ada69874",
   "metadata": {},
   "outputs": [
    {
     "name": "stdout",
     "output_type": "stream",
     "text": [
      "Mohith Reddy Chada\n"
     ]
    }
   ],
   "source": [
    "print(\"Mohith Reddy Chada\")"
   ]
  },
  {
   "cell_type": "code",
   "execution_count": 9,
   "id": "fc973349",
   "metadata": {},
   "outputs": [
    {
     "name": "stdout",
     "output_type": "stream",
     "text": [
      "Enter first number:12\n",
      "Enter second number:32\n",
      "Area of rectangle= 384.0\n"
     ]
    }
   ],
   "source": [
    "# The area of the rectangle\n",
    "\n",
    "len= float(input('Enter first number:'))\n",
    "br = float(input('Enter second number:'))\n",
    "A= len*br\n",
    "print('Area of rectangle=',A)\n",
    "\n"
   ]
  },
  {
   "cell_type": "code",
   "execution_count": 1,
   "id": "a68a692b",
   "metadata": {},
   "outputs": [
    {
     "name": "stdout",
     "output_type": "stream",
     "text": [
      "celcius:25\n",
      "77.0\n"
     ]
    }
   ],
   "source": [
    "# convert celsius to fahrenhett\n",
    "\n",
    "c = input('celcius:')\n",
    "f = float(c)*(9/5)+32\n",
    "print(f)"
   ]
  },
  {
   "cell_type": "code",
   "execution_count": 2,
   "id": "ec2ae091",
   "metadata": {},
   "outputs": [
    {
     "name": "stdout",
     "output_type": "stream",
     "text": [
      "radius:7\n",
      "153.93804002589985\n"
     ]
    }
   ],
   "source": [
    "# Area of circle\n",
    "import math\n",
    "r = input(\"radius:\")\n",
    "a = math.pi*(float(r)**2)\n",
    "print(a)"
   ]
  },
  {
   "cell_type": "code",
   "execution_count": 4,
   "id": "e5e56f12",
   "metadata": {},
   "outputs": [
    {
     "name": "stdout",
     "output_type": "stream",
     "text": [
      "Names**Is**James\n"
     ]
    }
   ],
   "source": [
    "# \"Name**is**james\"\n",
    "a = \"Names\"\n",
    "b = \"Is\"\n",
    "c = \"James\"\n",
    "print(a + \"**\" + b + \"**\" + c)"
   ]
  },
  {
   "cell_type": "code",
   "execution_count": 1,
   "id": "82b97f74",
   "metadata": {},
   "outputs": [
    {
     "name": "stdout",
     "output_type": "stream",
     "text": [
      "number:55\n",
      "odd\n"
     ]
    }
   ],
   "source": [
    "# EVEN OR ODD\n",
    "\n",
    "a = input(\"number:\")\n",
    "if int(a)%2==0:\n",
    "    print(\"even\")\n",
    "else:\n",
    "    print(\"odd\")"
   ]
  },
  {
   "cell_type": "code",
   "execution_count": 10,
   "id": "668ff7bf",
   "metadata": {},
   "outputs": [
    {
     "name": "stdout",
     "output_type": "stream",
     "text": [
      "num1:34\n",
      "num2:34\n",
      "c is now: 34.0   d is now: 34.0\n"
     ]
    }
   ],
   "source": [
    "# C AND D INTERCHANGE\n",
    "\n",
    "c = float(input(\"num1:\"))\n",
    "d = float(input(\"num2:\"))\n",
    "\n",
    "\n",
    "c = c+d\n",
    "d = c-d\n",
    "c = c-d\n",
    "\n",
    "print(\"c is now:\",c,\"  d is now:\",d)"
   ]
  },
  {
   "cell_type": "code",
   "execution_count": 4,
   "id": "d01adcf4",
   "metadata": {},
   "outputs": [
    {
     "name": "stdout",
     "output_type": "stream",
     "text": [
      "python\n"
     ]
    }
   ],
   "source": [
    "n=input()\n",
    "for i in n:\n",
    "    if i == 'a' or 'e' or 'i' or 'o' or 'u':\n",
    "        continue\n",
    "        print(n)\n"
   ]
  },
  {
   "cell_type": "code",
   "execution_count": 3,
   "id": "c5d894ef",
   "metadata": {},
   "outputs": [
    {
     "name": "stdout",
     "output_type": "stream",
     "text": [
      "6\n",
      "2\n"
     ]
    }
   ],
   "source": [
    "name=\"Mohith\"\n",
    "print(len(name))\n",
    "print(name.find(\"h\"))"
   ]
  },
  {
   "cell_type": "code",
   "execution_count": 7,
   "id": "042f72d1",
   "metadata": {},
   "outputs": [
    {
     "name": "stdout",
     "output_type": "stream",
     "text": [
      "Mohit\n",
      " Reddy\n",
      "Mht ed\n",
      "yddeR htihoM\n"
     ]
    }
   ],
   "source": [
    "name = \"Mohith Reddy\"\n",
    "First_name = name[:5]\n",
    "Last_name = name[6:]\n",
    "Funky_name = name[::2]\n",
    "Reversed_name = name[::-1]\n",
    "\n",
    "print(First_name)\n",
    "print(Last_name)\n",
    "print(Funky_name)\n",
    "print(Reversed_name)"
   ]
  },
  {
   "cell_type": "code",
   "execution_count": 8,
   "id": "14266270",
   "metadata": {},
   "outputs": [
    {
     "name": "stdout",
     "output_type": "stream",
     "text": [
      "google\n"
     ]
    }
   ],
   "source": [
    "website = \"http://google.com\"\n",
    "slice = slice(7,-4)\n",
    "print(website[slice])"
   ]
  },
  {
   "cell_type": "code",
   "execution_count": 12,
   "id": "6f8b9b16",
   "metadata": {},
   "outputs": [
    {
     "name": "stdout",
     "output_type": "stream",
     "text": [
      "Hello,my name is {} Mohith\n",
      "Hello,my name is Mohith    ,nice to meet you\n",
      "Hello,my name is Mohith    ,nice to meet you\n",
      "Hello,my name is     Mohith,nice to meet you\n",
      "Hello,my name is   Mohith  ,nice to meet you\n"
     ]
    }
   ],
   "source": [
    "name = \"Mohith\"\n",
    "print(\"Hello,my name is {}\",format(name))\n",
    "print(\"Hello,my name is {:10},nice to meet you\".format(name))\n",
    "print(\"Hello,my name is {:<10},nice to meet you\".format(name))\n",
    "print(\"Hello,my name is {:>10},nice to meet you\".format(name))\n",
    "print(\"Hello,my name is {:^10},nice to meet you\".format(name))\n",
    "\n"
   ]
  },
  {
   "cell_type": "code",
   "execution_count": 13,
   "id": "6a88c12d",
   "metadata": {},
   "outputs": [
    {
     "name": "stdout",
     "output_type": "stream",
     "text": [
      "Welcome to Home!\n"
     ]
    }
   ],
   "source": [
    "str1 = \"Welcome to Home!\"\n",
    "after_strip = str1.strip(\"\")\n",
    "print(after_strip)"
   ]
  },
  {
   "cell_type": "code",
   "execution_count": 2,
   "id": "e96622c3",
   "metadata": {},
   "outputs": [
    {
     "name": "stdout",
     "output_type": "stream",
     "text": [
      "elcome to Home!\n"
     ]
    }
   ],
   "source": [
    "str1 = \"Welcome to Home!\"\n",
    "after_strip = str1.strip(\"W\")\n",
    "print(after_strip)"
   ]
  },
  {
   "cell_type": "code",
   "execution_count": 5,
   "id": "b29f3a2b",
   "metadata": {},
   "outputs": [
    {
     "name": "stdout",
     "output_type": "stream",
     "text": [
      "Hello world\n"
     ]
    }
   ],
   "source": [
    "x=\"Hello world\"\n",
    "print(\"Hello world\")"
   ]
  },
  {
   "cell_type": "code",
   "execution_count": 6,
   "id": "f217ce55",
   "metadata": {},
   "outputs": [
    {
     "name": "stdout",
     "output_type": "stream",
     "text": [
      "mohith reddy\n"
     ]
    }
   ],
   "source": [
    "x=\"mohith reddy\"\n",
    "print(\"mohith reddy\")"
   ]
  },
  {
   "cell_type": "code",
   "execution_count": 1,
   "id": "10209440",
   "metadata": {},
   "outputs": [
    {
     "name": "stdout",
     "output_type": "stream",
     "text": [
      "Mohith\n"
     ]
    }
   ],
   "source": [
    "print(\"Mohith\")"
   ]
  },
  {
   "cell_type": "code",
   "execution_count": 2,
   "id": "298822d5",
   "metadata": {},
   "outputs": [
    {
     "name": "stdout",
     "output_type": "stream",
     "text": [
      "Hello,world!\n"
     ]
    }
   ],
   "source": [
    "print(\"Hello,world!\")"
   ]
  },
  {
   "cell_type": "code",
   "execution_count": null,
   "id": "2623ccda",
   "metadata": {},
   "outputs": [],
   "source": []
  }
 ],
 "metadata": {
  "kernelspec": {
   "display_name": "Python 3 (ipykernel)",
   "language": "python",
   "name": "python3"
  },
  "language_info": {
   "codemirror_mode": {
    "name": "ipython",
    "version": 3
   },
   "file_extension": ".py",
   "mimetype": "text/x-python",
   "name": "python",
   "nbconvert_exporter": "python",
   "pygments_lexer": "ipython3",
   "version": "3.11.4"
  }
 },
 "nbformat": 4,
 "nbformat_minor": 5
}
